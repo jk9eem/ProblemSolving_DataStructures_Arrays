{
  "cells": [
    {
      "cell_type": "markdown",
      "metadata": {
        "id": "view-in-github",
        "colab_type": "text"
      },
      "source": [
        "<a href=\"https://colab.research.google.com/github/jk9eem/ProblemSolving_DataStructures_Arrays/blob/main/Problem%20Solving_Data%20Structures_Arrays.ipynb\" target=\"_parent\"><img src=\"https://colab.research.google.com/assets/colab-badge.svg\" alt=\"Open In Colab\"/></a>"
      ]
    },
    {
      "cell_type": "markdown",
      "source": [
        "101.Arrays - DS"
      ],
      "metadata": {
        "id": "sobp0Ki1Z4Zn"
      }
    },
    {
      "cell_type": "code",
      "source": [
        "def reverseArray(a):\n",
        "    # Write your code here\n",
        "    return a[::-1] # Simple reverse array method"
      ],
      "metadata": {
        "id": "vqW14lpHZ4jK"
      },
      "execution_count": null,
      "outputs": []
    },
    {
      "cell_type": "markdown",
      "source": [
        "102.2D Arrays - DS"
      ],
      "metadata": {
        "id": "BmLChYsNmD6x"
      }
    },
    {
      "cell_type": "code",
      "source": [
        "def hourglassSum(arr):\n",
        "    # Write your code here\n",
        "    # maxHourglass = -sys.maxint # This is wrong\n",
        "    maxHourglass = -99 #maxSum = -99 # -9*7 = -63. Max neg number is -63 so, simply put -99\n",
        "    for i in range(4):\n",
        "        for j in range(4):\n",
        "            rowOne = arr[i][j] + arr[i][j+1] + arr[i][j+2]\n",
        "            rowTwo = arr[i+1][j+1]\n",
        "            rowThree = arr[i+2][j] + arr[i+2][j+1] + arr[i+2][j+2]\n",
        "            temp = rowOne + rowTwo + rowThree\n",
        "            if temp > maxHourglass: # Simply, max(temp,maxHourglass)\n",
        "                maxHourglass = temp\n",
        "    return maxHourglass"
      ],
      "metadata": {
        "id": "SiYBvs54mECn"
      },
      "execution_count": null,
      "outputs": []
    },
    {
      "cell_type": "markdown",
      "source": [
        "104.Left Rotation"
      ],
      "metadata": {
        "id": "Mmg_ajk6MLv4"
      }
    },
    {
      "cell_type": "code",
      "source": [
        "def rotateLeft(d, arr):\n",
        "    # Write your code here\n",
        "    \n",
        "    # Solution\n",
        "    # Approach: split the array in 2 parts. Then shift the front parts to the back\n",
        "    # I forgot how to rotate the elements in the array\n",
        "    \n",
        "    # Left rotations\n",
        "    arr = arr[d:] + arr[:d] # Why it works? Becuase the constraints notice 1<=d<=n which means d won't exceed the length of the array\n",
        "    \n",
        "    # Print the array\n",
        "    return arr"
      ],
      "metadata": {
        "id": "k8bgc6aMML6k"
      },
      "execution_count": null,
      "outputs": []
    },
    {
      "cell_type": "markdown",
      "source": [
        "105.Sparse Arrays"
      ],
      "metadata": {
        "id": "Z0dI3Z27bNQ7"
      }
    },
    {
      "cell_type": "code",
      "source": [
        "from collections import Counter\n",
        "\n",
        "def matchingStrings(strings, queries):\n",
        "    # Write your code here\n",
        "    # Approach: compare the strings with each queries. If strings contain the queries element,\n",
        "    #           increase 1 to the corresponding index of the result array\n",
        "    # res = []\n",
        "    # for i in range(len(queries)):\n",
        "    #     for j in range(len(strings)):\n",
        "    #         if queries[i] in strings[j]:\n",
        "    #             res[i]+=1\n",
        "                \n",
        "    # return res\n",
        "    \n",
        "    # Solution\n",
        "    # First, import 'Counter'\n",
        "    # Create dict with count\n",
        "    s = Counter(strings) # This will return a dict with a key as a string and a value as a count\n",
        "                         # (key->string, value->count)\n",
        "    result = [] # In order to store the elements\n",
        "    \n",
        "    # Process the queries\n",
        "    for q in queries:\n",
        "        result.append(s[q]) # 's' will be the querie string. 's' is a dictionary so base on the querie, 'q', it'll return the count.\n",
        "        # Not in dict, it'll return 0 -> Speciality of the Counter function!!\n",
        "        \n",
        "    return result"
      ],
      "metadata": {
        "id": "5hS2BcjDbNYV"
      },
      "execution_count": null,
      "outputs": []
    }
  ],
  "metadata": {
    "colab": {
      "collapsed_sections": [],
      "name": "Welcome To Colaboratory",
      "toc_visible": true,
      "provenance": [],
      "include_colab_link": true
    },
    "kernelspec": {
      "display_name": "Python 3",
      "name": "python3"
    }
  },
  "nbformat": 4,
  "nbformat_minor": 0
}