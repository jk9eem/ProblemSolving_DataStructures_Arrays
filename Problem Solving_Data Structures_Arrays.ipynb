{
  "cells": [
    {
      "cell_type": "markdown",
      "metadata": {
        "id": "view-in-github",
        "colab_type": "text"
      },
      "source": [
        "<a href=\"https://colab.research.google.com/github/jk9eem/ProblemSolving_DataStructures_Arrays/blob/main/Problem%20Solving_Data%20Structures_Arrays.ipynb\" target=\"_parent\"><img src=\"https://colab.research.google.com/assets/colab-badge.svg\" alt=\"Open In Colab\"/></a>"
      ]
    },
    {
      "cell_type": "markdown",
      "source": [
        "101.Arrays - DS"
      ],
      "metadata": {
        "id": "sobp0Ki1Z4Zn"
      }
    },
    {
      "cell_type": "code",
      "source": [
        "def reverseArray(a):\n",
        "    # Write your code here\n",
        "    return a[::-1] # Simple reverse array method"
      ],
      "metadata": {
        "id": "vqW14lpHZ4jK"
      },
      "execution_count": null,
      "outputs": []
    }
  ],
  "metadata": {
    "colab": {
      "collapsed_sections": [],
      "name": "Welcome To Colaboratory",
      "toc_visible": true,
      "provenance": [],
      "include_colab_link": true
    },
    "kernelspec": {
      "display_name": "Python 3",
      "name": "python3"
    }
  },
  "nbformat": 4,
  "nbformat_minor": 0
}