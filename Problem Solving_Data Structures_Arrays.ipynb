{
  "cells": [
    {
      "cell_type": "markdown",
      "metadata": {
        "id": "view-in-github",
        "colab_type": "text"
      },
      "source": [
        "<a href=\"https://colab.research.google.com/github/jk9eem/ProblemSolving_DataStructures_Arrays/blob/main/Problem%20Solving_Data%20Structures_Arrays.ipynb\" target=\"_parent\"><img src=\"https://colab.research.google.com/assets/colab-badge.svg\" alt=\"Open In Colab\"/></a>"
      ]
    },
    {
      "cell_type": "markdown",
      "source": [
        "101.Arrays - DS"
      ],
      "metadata": {
        "id": "sobp0Ki1Z4Zn"
      }
    },
    {
      "cell_type": "code",
      "source": [
        "def reverseArray(a):\n",
        "    # Write your code here\n",
        "    return a[::-1] # Simple reverse array method"
      ],
      "metadata": {
        "id": "vqW14lpHZ4jK"
      },
      "execution_count": null,
      "outputs": []
    },
    {
      "cell_type": "markdown",
      "source": [
        "102.2D Arrays - DS"
      ],
      "metadata": {
        "id": "BmLChYsNmD6x"
      }
    },
    {
      "cell_type": "code",
      "source": [
        "def hourglassSum(arr):\n",
        "    # Write your code here\n",
        "    # maxHourglass = -sys.maxint # This is wrong\n",
        "    maxHourglass = -99 #maxSum = -99 # -9*7 = -63. Max neg number is -63 so, simply put -99\n",
        "    for i in range(4):\n",
        "        for j in range(4):\n",
        "            rowOne = arr[i][j] + arr[i][j+1] + arr[i][j+2]\n",
        "            rowTwo = arr[i+1][j+1]\n",
        "            rowThree = arr[i+2][j] + arr[i+2][j+1] + arr[i+2][j+2]\n",
        "            temp = rowOne + rowTwo + rowThree\n",
        "            if temp > maxHourglass: # Simply, max(temp,maxHourglass)\n",
        "                maxHourglass = temp\n",
        "    return maxHourglass"
      ],
      "metadata": {
        "id": "SiYBvs54mECn"
      },
      "execution_count": null,
      "outputs": []
    },
    {
      "cell_type": "markdown",
      "source": [
        "104.Left Rotation"
      ],
      "metadata": {
        "id": "Mmg_ajk6MLv4"
      }
    },
    {
      "cell_type": "code",
      "source": [
        "def rotateLeft(d, arr):\n",
        "    # Write your code here\n",
        "    \n",
        "    # Solution\n",
        "    # Approach: split the array in 2 parts. Then shift the front parts to the back\n",
        "    # I forgot how to rotate the elements in the array\n",
        "    \n",
        "    # Left rotations\n",
        "    arr = arr[d:] + arr[:d]\n",
        "    \n",
        "    # Print the array\n",
        "    return arr"
      ],
      "metadata": {
        "id": "k8bgc6aMML6k"
      },
      "execution_count": null,
      "outputs": []
    }
  ],
  "metadata": {
    "colab": {
      "collapsed_sections": [],
      "name": "Welcome To Colaboratory",
      "toc_visible": true,
      "provenance": [],
      "include_colab_link": true
    },
    "kernelspec": {
      "display_name": "Python 3",
      "name": "python3"
    }
  },
  "nbformat": 4,
  "nbformat_minor": 0
}